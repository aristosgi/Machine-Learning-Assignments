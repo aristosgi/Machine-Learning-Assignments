{
 "cells": [
  {
   "cell_type": "markdown",
   "id": "4f6aca9e",
   "metadata": {},
   "source": [
    " # Economic Connectedness - 1st assignment"
   ]
  },
  {
   "cell_type": "markdown",
   "id": "fbfe8c5e",
   "metadata": {},
   "source": [
    "### Q1: The Geography of Social Capital in the United States\n",
    " \n",
    " "
   ]
  },
  {
   "cell_type": "markdown",
   "id": "aab7b1f6",
   "metadata": {},
   "source": [
    "1ST STEP - IMPORTS\n"
   ]
  },
  {
   "cell_type": "code",
   "execution_count": null,
   "id": "db12a826",
   "metadata": {},
   "outputs": [],
   "source": [
    "import pandas as pd\n",
    "import plotly.express as px\n",
    "from urllib.request import urlopen\n",
    "import json\n",
    "\n"
   ]
  },
  {
   "cell_type": "markdown",
   "id": "185eb4bd",
   "metadata": {},
   "source": []
  },
  {
   "cell_type": "markdown",
   "id": "afdc5442",
   "metadata": {},
   "source": [
    "2ND STEP - READ DATA"
   ]
  },
  {
   "cell_type": "code",
   "execution_count": null,
   "id": "a5250cca",
   "metadata": {},
   "outputs": [],
   "source": [
    "with urlopen('https://raw.githubusercontent.com/plotly/datasets/master/geojson-counties-fips.json') as response:\n",
    "    counties = json.load(response)\n",
    "    \n",
    "data = pd.read_csv('data/social_capital_county.csv')"
   ]
  },
  {
   "cell_type": "markdown",
   "id": "b17d114e",
   "metadata": {},
   "source": [
    "3RD STEP - GENERATE COUNTY ID"
   ]
  },
  {
   "cell_type": "code",
   "execution_count": null,
   "id": "efe469e1",
   "metadata": {},
   "outputs": [],
   "source": [
    "result = []\n",
    "#transform values to appropriate form \n",
    "for value in data[\"county\"]:\n",
    "    if value >= 10000:\n",
    "        result.append(f'{value}')\n",
    "    else:\n",
    "        result.append(f'0{value}')\n",
    "      \n",
    "data[\"county\"] = result  \n",
    "data_map = pd.DataFrame(data)\n"
   ]
  },
  {
   "cell_type": "markdown",
   "id": "68558194",
   "metadata": {},
   "source": [
    "4TH STEP - CREATE BINS TRANSFORM RENAME THEM AND SORT VALUES"
   ]
  },
  {
   "cell_type": "code",
   "execution_count": null,
   "id": "1c1be732",
   "metadata": {},
   "outputs": [],
   "source": [
    "data_map[\"bins\"] = pd.qcut(data_map['ec_county'], q=10 )\n",
    "\n",
    "#Change type from categorical to string\n",
    "data_map['bins'] = data_map.bins.astype(str)\n",
    "\n",
    "data_map=data_map.replace('a','NA')\n",
    "#rename values\n",
    "data_map['bins'].replace('nan', 'NA', inplace=True)\n",
    "data_map['bins'].replace('(0.72, 0.764]', '0.72-0.76', inplace=True)\n",
    "data_map['bins'].replace('(0.294, 0.584]', '< 0.58', inplace=True)\n",
    "data_map['bins'].replace('(0.974, 1.06]', '0.97-1.06', inplace=True)\n",
    "data_map['bins'].replace('(1.06, 1.36]', '> 1,06', inplace=True)\n",
    "data_map['bins'].replace('(0.85, 0.904]', '0.85-0.90', inplace=True)\n",
    "data_map['bins'].replace('(0.904, 0.974]', '0.90-0.97', inplace=True)\n",
    "data_map['bins'].replace('(0.85, 0.904]', '0.85-0.90', inplace=True)\n",
    "data_map['bins'].replace('(0.667, 0.72]', '0.67-0.72', inplace=True)\n",
    "data_map['bins'].replace('(0.584, 0.667]', '0.58-0.67', inplace=True)\n",
    "data_map['bins'].replace('(0.764, 0.807]', '0.76-0.81', inplace=True)\n",
    "data_map['bins'].replace('(0.807, 0.85]', '0.81-0.85', inplace=True)\n",
    "\n",
    "\n",
    "data_map = data_map.sort_values(by='ec_county', ascending=False)\n",
    "\n",
    "bins = data_map['bins'].unique()\n",
    "\n",
    "\n",
    "data_map['bins'].replace('nan', 'NA', inplace=True)\n",
    "\n",
    "data_map['Economic Connectedness']=data_map['bins']\n",
    "\n"
   ]
  },
  {
   "cell_type": "markdown",
   "id": "bbbc334b",
   "metadata": {},
   "source": [
    "5TH STEP - CREATE A TABLE WITH COLORS FOR THE CHOROPLETH DIAGRAM"
   ]
  },
  {
   "cell_type": "code",
   "execution_count": null,
   "id": "87408b90",
   "metadata": {},
   "outputs": [],
   "source": [
    "colors = [\"rgba(178,24,43,255)\",\"rgba(214,96,77,255)\",\"rgba(244,165,130,255)\",\"rgba(253,219,199,255)\",\"rgba(247,247,247,255)\",\"rgba(229,236,246,255)\",\"rgba(146,196,222,255)\",\"rgba(67,147,195,255)\",\"rgba(33,102,172,255)\",\"rgba(5,48,97,255)\"]"
   ]
  },
  {
   "cell_type": "markdown",
   "id": "c9d8ce9d",
   "metadata": {},
   "source": [
    "6TH STEP - CREATE DIAGRAMM"
   ]
  },
  {
   "cell_type": "code",
   "execution_count": null,
   "id": "9158345e",
   "metadata": {},
   "outputs": [],
   "source": [
    "fig = px.choropleth(data_map, geojson=counties, locations='county', color='Economic Connectedness',\n",
    "                           scope=\"usa\",\n",
    "                           labels={'ec_county':'Economic Connectedness'},\n",
    "                           color_discrete_map = {bins[9] : colors[0] ,bins[8] : colors[1] ,bins[7] : colors[2] ,bins[6] : colors[3] ,bins[5] : colors[4] ,bins[4] : colors[5] ,bins[3] : colors[6] ,bins[2] : colors[7] ,bins[1] : colors[8] ,bins[0] : colors[9] ,\"NA\" : \"rgba(254,216,2,255)\"},\n",
    "                           hover_name='county_name',\n",
    "                           hover_data={'ec_county':True}\n",
    "                          )\n",
    "\n",
    "\n",
    "fig.update_layout(margin={\"r\":0,\"t\":0,\"l\":0,\"b\":0})\n",
    "\n",
    "fig.show()\n",
    "\n",
    "\n",
    "\n"
   ]
  },
  {
   "cell_type": "markdown",
   "id": "0d9720d5",
   "metadata": {},
   "source": [
    "### Q2: Economic Connectedness and Outcomes"
   ]
  },
  {
   "cell_type": "markdown",
   "id": "987bfd7c",
   "metadata": {},
   "source": [
    "1ST STEP - IMPORTS"
   ]
  },
  {
   "cell_type": "code",
   "execution_count": null,
   "id": "a4778b05",
   "metadata": {},
   "outputs": [],
   "source": [
    "import pandas as pd\n",
    "from plotnine import *\n",
    "import matplotlib.pyplot as plt\n",
    "import seaborn as sns\n",
    "import matplotlib.colors\n",
    "\n",
    "%matplotlib inline\n"
   ]
  },
  {
   "cell_type": "markdown",
   "id": "4b5c6d8a",
   "metadata": {},
   "source": [
    "2ND STEP - READ DATA"
   ]
  },
  {
   "cell_type": "code",
   "execution_count": null,
   "id": "8681e5ee",
   "metadata": {},
   "outputs": [],
   "source": [
    "data_pr = pd.read_csv(\"data/county_outcomes_simple.csv\" )\n",
    "data_ec = pd.read_csv(\"data/social_capital_county.csv\" )"
   ]
  },
  {
   "cell_type": "markdown",
   "id": "b3d2b333",
   "metadata": {},
   "source": [
    "3RD STEP - GENERATE COUNTY ID,STATE ID , CREATE UNIQUE ID , TRANSFORM THEIR TYPE"
   ]
  },
  {
   "cell_type": "code",
   "execution_count": null,
   "id": "9b991638",
   "metadata": {},
   "outputs": [],
   "source": [
    "id = []\n",
    "#transform values to appropriate form \n",
    "for value in data_ec[\"county\"]:\n",
    "    if value >= 10000:\n",
    "        id.append(f'{value}')\n",
    "    else:\n",
    "        id.append(f'0{value}')\n",
    "      \n",
    "data_ec[\"id\"] = id  \n",
    "data_edited = pd.DataFrame(data_ec)\n",
    "\n",
    "id = []\n",
    "for value in data_pr[\"county\"]:\n",
    "    if value >= 100:\n",
    "        id.append(f'{value}')\n",
    "    else:\n",
    "        if value > 10:\n",
    "            id.append(f'0{value}')\n",
    "        else:\n",
    "            id.append(f'00{value}')\n",
    "data_pr[\"id_county\"] = id\n",
    "\n",
    "data_pr_edited = pd.DataFrame(data_pr)\n",
    "\n",
    "id = []\n",
    "\n",
    "for value in data_pr_edited[\"state\"]:\n",
    "    if value >= 10:\n",
    "        id.append(f'{value}')\n",
    "    else:\n",
    "        id.append(f'0{value}')\n",
    "        \n",
    "\n",
    "data_pr_edited[\"id_state\"] = id\n",
    "\n",
    "data_pr_edited = pd.DataFrame(data_pr_edited)\n",
    "\n",
    "data_pr_edited[\"id\"] = data_pr_edited[\"id_state\"] + data_pr_edited[\"id_county\"]\n",
    "\n",
    "#rename the column for the diagram\n",
    "data_pr_edited[\"key\"] = data_pr[\"kfr_pooled_pooled_p25\"]\n",
    "\n",
    "data_pr_edited['id'] = data_pr_edited['id'].astype(int)\n",
    "\n",
    "data_edited['id'] = data_edited['id'].astype(int)\n"
   ]
  },
  {
   "cell_type": "markdown",
   "id": "d3e0b776",
   "metadata": {},
   "source": [
    "4TH STEP - SORT AND TAKE FIRST 200 COUNTIES BASED ON POPULATION AND MERGR THEM WITH THE OTHER DATAFRAME"
   ]
  },
  {
   "cell_type": "code",
   "execution_count": null,
   "id": "5175eb39",
   "metadata": {},
   "outputs": [],
   "source": [
    "sorted_by_pop = data_edited.sort_values(by=['pop2018'] , ascending=False).head(200)\n",
    "df = pd.merge(sorted_by_pop ,data_pr_edited, on='id' )"
   ]
  },
  {
   "cell_type": "markdown",
   "id": "e5fafeb4",
   "metadata": {},
   "source": [
    "5TH STEP - CREATE A DICT WITH THE COUNTIES I HAVE TO ANNOTATE (KEY = NAME OF COUNTY , VALUE_0 = ECONOMIC CONNECTEDNESS , VALUE_1 = PREDICTED HOUSEHOLD INCOME"
   ]
  },
  {
   "cell_type": "code",
   "execution_count": null,
   "id": "108635af",
   "metadata": {},
   "outputs": [],
   "source": [
    "annotations = {}\n",
    "annotations['Indianapolis'] = []\n",
    "annotations['Indianapolis'].append(0.64282)\n",
    "annotations['Indianapolis'].append(0.344080)\n",
    "annotations['New York City'] = []\n",
    "annotations['New York City'].append(0.82734)\n",
    "annotations['New York City'].append(0.418693)\n",
    "annotations['Minneapolis'] = []\n",
    "annotations['Minneapolis'].append(0.97632)\n",
    "annotations['Minneapolis'].append(0.428964)\n",
    "annotations['Salt Lake City'] = []\n",
    "annotations['Salt Lake City'].append(0.96395)\n",
    "annotations['Salt Lake City'].append(0.454131)\n",
    "annotations['San Fransisco'] = []\n",
    "annotations['San Fransisco'].append(1.31244)\n",
    "annotations['San Fransisco'].append(0.503888)"
   ]
  },
  {
   "cell_type": "markdown",
   "id": "c38adbd4",
   "metadata": {},
   "source": [
    "6TH STEP- CREATE THE SEABORN DIAGRAMM"
   ]
  },
  {
   "cell_type": "code",
   "execution_count": null,
   "id": "a5ce558a",
   "metadata": {},
   "outputs": [],
   "source": [
    "#set background and type\n",
    "sns.set_style('dark')\n",
    "sns.set(rc={'figure.figsize':(10, 5)})\n",
    "\n",
    "#annotations\n",
    "plt.annotate('Indianapolis', (annotations['Indianapolis'][0] , annotations['Indianapolis'][1]),(annotations['Indianapolis'][0]+0.07 , annotations['Indianapolis'][1]-0.012) , arrowprops = {'width':1 ,'headwidth':4,'color':'black'})\n",
    "plt.annotate('New York City', (annotations['New York City'][0] , annotations['New York City'][1]),(annotations['New York City'][0] , annotations['New York City'][1]+0.08) , arrowprops = {'width':1 ,'headwidth':4,'color':'black' })\n",
    "plt.annotate('Minneapolis', (annotations['Minneapolis'][0] , annotations['Minneapolis'][1]),(annotations['Minneapolis'][0]+0.02 , annotations['Minneapolis'][1]-0.05), arrowprops = {'width':1 ,'headwidth':4,'color':'black'})\n",
    "plt.annotate('Salt Lake City', (annotations['Salt Lake City'][0] , annotations['Salt Lake City'][1]),(annotations['Salt Lake City'][0] , annotations['Salt Lake City'][1] +0.04) , arrowprops = {'width':1 ,'headwidth':4,'color':'black'})\n",
    "plt.annotate('San Fransisco', (annotations['San Fransisco'][0] , annotations['San Fransisco'][1]),(annotations['San Fransisco'][0]-0.08 , annotations['San Fransisco'][1]-0.1), arrowprops = {'width':1 ,'headwidth':4 ,'color':'black'} )\n",
    "\n",
    "#diagramm\n",
    "sns.regplot(x='ec_county', y='key', data=df)\n",
    "\n",
    "#x,y labels\n",
    "plt.ylabel('Predicted Household Income Rank \\n For Childer with Parents at 25th Income Rank')\n",
    "plt.xlabel('Economic Connectedness')"
   ]
  },
  {
   "cell_type": "markdown",
   "id": "2b727a00",
   "metadata": {},
   "source": [
    "### Q3: Upward Income Mobility, Economic Connectedness, and Median House Income"
   ]
  },
  {
   "cell_type": "markdown",
   "id": "18450e2c",
   "metadata": {},
   "source": [
    "1ST STEP - READ DATA,MERGE DATAFRAMES"
   ]
  },
  {
   "cell_type": "code",
   "execution_count": null,
   "id": "2c735402",
   "metadata": {},
   "outputs": [],
   "source": [
    "data = pd.read_stata('data/zip_covariates.dta')\n",
    "data_2 = pd.read_csv('data/social_capital_zip.csv')\n",
    "df = pd.merge(data , data_2 , on='zip')"
   ]
  },
  {
   "cell_type": "markdown",
   "id": "a2cc50e3",
   "metadata": {},
   "source": [
    "2ND STEP - CREATE NOT NULL BINS"
   ]
  },
  {
   "cell_type": "code",
   "execution_count": null,
   "id": "3b38c2a1",
   "metadata": {},
   "outputs": [],
   "source": [
    "#create bins\n",
    "df['bins'] = pd.qcut(df['kfr_pooled_pooled_p25'], q=5 )\n",
    "# keep not null values\n",
    "df = df.loc[df.bins.notnull()]"
   ]
  },
  {
   "cell_type": "markdown",
   "id": "2b00b3a5",
   "metadata": {},
   "source": [
    "3RD STEP - FIX BINS TYPE AND RENAME"
   ]
  },
  {
   "cell_type": "code",
   "execution_count": null,
   "id": "de9e4370",
   "metadata": {},
   "outputs": [],
   "source": [
    "#change type from categorical to string\n",
    "df['bins'] = df.bins.astype(str)\n",
    "#rename values\n",
    "df['bins'].replace('(0.206, 0.383]', '< 38', inplace=True)\n",
    "df['bins'].replace('(0.383, 0.415]', '38-0.41', inplace=True)\n",
    "df['bins'].replace('(0.415, 0.443]', '0.41-0.44', inplace=True)\n",
    "df['bins'].replace('(0.443, 0.482]', '0.44-0.48', inplace=True)\n",
    "df['bins'].replace('(0.482, 0.723]', '> 48', inplace=True)"
   ]
  },
  {
   "cell_type": "markdown",
   "id": "d75119c9",
   "metadata": {},
   "source": [
    "4TH STEP - KEEP RAWS WITH SPECIFIC MEDIAN HOUSEHOLD INCOME( <=100000 AND >=30000)"
   ]
  },
  {
   "cell_type": "code",
   "execution_count": null,
   "id": "2fbe6132",
   "metadata": {},
   "outputs": [],
   "source": [
    "df = df.loc[df['med_inc_2018']>=30000]\n",
    "df = df.loc[df['med_inc_2018']<=100000]"
   ]
  },
  {
   "cell_type": "markdown",
   "id": "4934942f",
   "metadata": {},
   "source": [
    "5TH STEP - CREATE DIAGRAMM"
   ]
  },
  {
   "cell_type": "code",
   "execution_count": null,
   "id": "97c8ff15",
   "metadata": {},
   "outputs": [],
   "source": [
    "#set background , palette, size\n",
    "sns.set_style('dark')\n",
    "sns.set(rc={'figure.figsize':(7, 10)})\n",
    "sns.set_palette('RdBu')\n",
    "\n",
    "#rename a column\n",
    "df = df.rename(columns={\"bins\":'Upward Mobility'})\n",
    "\n",
    "#create diagramm\n",
    "sns.relplot(x='med_inc_2018', y='ec_zip', hue='Upward Mobility', height=5, aspect=1.5, data=df , label = False)\n",
    "\n",
    "#set x,y label \n",
    "plt.ylabel('Median Household Income in ZIP code(US $)')\n",
    "plt.xlabel('Economic Connectedness')\n"
   ]
  },
  {
   "cell_type": "markdown",
   "id": "77d49494",
   "metadata": {},
   "source": [
    "### Q4: Friending Bias and Exposure by High School"
   ]
  },
  {
   "cell_type": "markdown",
   "id": "95041684",
   "metadata": {},
   "source": [
    "1ST STEP - IMPORTS"
   ]
  },
  {
   "cell_type": "code",
   "execution_count": null,
   "id": "94c5b9be",
   "metadata": {},
   "outputs": [],
   "source": [
    "import pandas as pd\n",
    "from plotnine import *\n"
   ]
  },
  {
   "cell_type": "markdown",
   "id": "61d2cfa7",
   "metadata": {},
   "source": [
    "2ND STEP - READ DATA"
   ]
  },
  {
   "cell_type": "code",
   "execution_count": null,
   "id": "00a54dde",
   "metadata": {},
   "outputs": [],
   "source": [
    "data_ec = pd.read_csv(\"data/social_capital_high_school.csv\")"
   ]
  },
  {
   "cell_type": "markdown",
   "id": "b442fe65",
   "metadata": {},
   "source": [
    "3RD STEP - EDIT DATA"
   ]
  },
  {
   "cell_type": "code",
   "execution_count": null,
   "id": "06192e92",
   "metadata": {},
   "outputs": [],
   "source": [
    "data_ec[\"exposure_parent_ses_hs\"] = (data_ec[\"exposure_parent_ses_hs\"]/2)*100 #TRANSFORM TO PERCENT %\n",
    "data_ec[\"bias_parent_ses_hs\"] = (data_ec[\"bias_parent_ses_hs\"])*100 #TRANSFORM TO PERCENT %"
   ]
  },
  {
   "cell_type": "markdown",
   "id": "bfc45d31",
   "metadata": {},
   "source": [
    "4TH STEP - CREATE DATAFRAME WITH THE SCHOOLS I HAVE TO ANNOTATE"
   ]
  },
  {
   "cell_type": "code",
   "execution_count": null,
   "id": "ebb0c066",
   "metadata": {},
   "outputs": [],
   "source": [
    "sc = [\"00941729\", \"060474000432\", \"170993000942\", \"170993001185\", \"170993003989\", \"171449001804\", \"250327000436\", \"360009101928\", \"370297001285\", \"483702004138\", \"250843001336\", \"062271003230\", \"010237000962\", \"00846981\", \"00852124\"]\n",
    "\n",
    "schools = data_ec.loc[data_ec['high_school'].isin(sc)]"
   ]
  },
  {
   "cell_type": "markdown",
   "id": "d4ce99e2",
   "metadata": {},
   "source": [
    "5TH STEP - CREATE DIAGRAMM"
   ]
  },
  {
   "cell_type": "code",
   "execution_count": null,
   "id": "5baffb6c",
   "metadata": {},
   "outputs": [],
   "source": [
    "#EDIT ANNOTATIONS\n",
    "\n",
    "adjust_text_dict = {\n",
    "    'expand_points': (2.8, 3.1),\n",
    "    'arrowprops': {\n",
    "        'arrowstyle': '->',\n",
    "        'color': 'cyan',\n",
    "        'lw': 0.5\n",
    "    }\n",
    "}\n",
    "\n",
    "#DIAGRAMM\n",
    "ggplot(data=data_ec, mapping=aes(x='exposure_parent_ses_hs', y='bias_parent_ses_hs')) +\\\n",
    "    geom_point(mapping=aes(), alpha=0.2, na_rm=True) +\\\n",
    "    labs(x='Share of high parental-SES Students (%)', y='Friending bias among low parental-SES Students (%)') +\\\n",
    "    geom_label(mapping=aes(label='high_school_name'),\n",
    "               adjust_text=adjust_text_dict, \n",
    "               alpha=1, data=schools, na_rm=True) +\\\n",
    "    geom_point(mapping=aes(x='exposure_parent_ses_hs', y='bias_parent_ses_hs'), alpha=0.8, na_rm=True ,data=schools ,color='cyan') +\\\n",
    "     scale_y_reverse()  + theme(figure_size=(10, 6))\n"
   ]
  },
  {
   "cell_type": "markdown",
   "id": "fb18330b",
   "metadata": {},
   "source": [
    "### Q5: Friending Bias vs. Racial Diversity"
   ]
  },
  {
   "cell_type": "markdown",
   "id": "90175da2",
   "metadata": {},
   "source": [
    "1ST STEP - IMPORTS "
   ]
  },
  {
   "cell_type": "code",
   "execution_count": null,
   "id": "753d0fdc",
   "metadata": {},
   "outputs": [],
   "source": [
    "import pandas as pd\n",
    "import matplotlib.pyplot as plt\n",
    "import seaborn as sns\n",
    "import matplotlib.axes as ax\n",
    "\n",
    "%matplotlib inline"
   ]
  },
  {
   "cell_type": "markdown",
   "id": "f111a4c4",
   "metadata": {},
   "source": [
    "2ND STEP - READ DATA"
   ]
  },
  {
   "cell_type": "code",
   "execution_count": null,
   "id": "0ceaaeab",
   "metadata": {},
   "outputs": [],
   "source": [
    "data1 = pd.read_csv('data/social_capital_zip.csv')\n",
    "data_col = pd.read_csv('data/social_capital_college.csv')\n",
    "data_col_2 = pd.read_stata('data/college_characteristics.dta') \n",
    "data2 = pd.read_stata('data/zip_covariates.dta') "
   ]
  },
  {
   "cell_type": "markdown",
   "id": "c5b66fad",
   "metadata": {},
   "source": [
    "3RD STEP - CALCULATE Herfindahl-Hirschman Index (HHI) (HHI TYPE = $ 1−\\sum_{i}{s_i}^2$ , ${s_i}$ = each race)"
   ]
  },
  {
   "cell_type": "code",
   "execution_count": null,
   "id": "556fe79d",
   "metadata": {},
   "outputs": [],
   "source": [
    "data2['hhi'] = 1 - (data2['share_white_2018']**2 + data2['share_black_2018']**2+data2['share_natam_2018']**2+data2['share_asian_2018']**2+data2['share_hawaii_2018']**2+data2['share_hispanic_2018']**2)\n",
    "data_col_2['hhi'] = 1 - (data_col_2['asian_or_pacific_share_fall_2000']**2 + data_col_2['black_share_fall_2000']**2 + data_col_2['hisp_share_fall_2000']**2 + (1-data_col_2['asian_or_pacific_share_fall_2000']-data_col_2['hisp_share_fall_2000'] -data_col_2['black_share_fall_2000'])**2 )"
   ]
  },
  {
   "cell_type": "markdown",
   "id": "c2bb0930",
   "metadata": {},
   "source": [
    "4TH STEP - MERGE DATAFRAMES , KEEP USEFULL RAWS"
   ]
  },
  {
   "cell_type": "code",
   "execution_count": null,
   "id": "b1600be4",
   "metadata": {},
   "outputs": [],
   "source": [
    "df_0 = pd.merge(data1, data2, on=['zip'])\n",
    "df_1 = pd.merge(data_col, data_col_2, on=['college'])\n",
    "df_0 = df_0[['nbhd_bias_zip','hhi','zip','num_below_p50_x']]\n",
    "df_1 = df_1[['bias_own_ses_college','hhi','college','mean_students_per_cohort_x']]\n"
   ]
  },
  {
   "cell_type": "markdown",
   "id": "5484386d",
   "metadata": {},
   "source": [
    "5TH STEP - CREATE BINS , TRANSFROM VALUES(percent)"
   ]
  },
  {
   "cell_type": "code",
   "execution_count": null,
   "id": "5d03ce89",
   "metadata": {},
   "outputs": [],
   "source": [
    "#keep positives values\n",
    "df_1=df_1.loc[df_1['hhi'] > 0]\n",
    "\n",
    "#create bins\n",
    "df_0['bins'] = pd.qcut(df_0['hhi'], q=20)\n",
    "df_1['bins'] = pd.qcut(df_1['hhi'], q=20)\n",
    "\n",
    "#transform to percent(%)\n",
    "df_0['nbhd_bias_zip'] = df_0['nbhd_bias_zip']*100\n",
    "df_1['bias_own_ses_college'] = df_1['bias_own_ses_college']*100"
   ]
  },
  {
   "cell_type": "markdown",
   "id": "13474bb9",
   "metadata": {},
   "source": [
    "6TH STEP - RENAME COLUMNS"
   ]
  },
  {
   "cell_type": "code",
   "execution_count": null,
   "id": "290a5b9e",
   "metadata": {},
   "outputs": [],
   "source": [
    "#set background and size\n",
    "sns.set_style('dark')\n",
    "sns.set(rc={'figure.figsize':(7, 5)})\n",
    "\n",
    "#create diagramm\n",
    "sns.regplot(x='hhi', y='bias_own_ses_college',marker='D',label='College', data=df_1.groupby('bins').mean())\n",
    "sns.regplot(x='hhi', y='nbhd_bias_zip' ,label='Neighbourhood',data=df_0.groupby('bins').mean())\n",
    "\n",
    "#set legend\n",
    "plt.legend()\n",
    "\n",
    "#set x,y label \n",
    "plt.ylabel('Friending Bias among Low-SES Individuals (%)')\n",
    "plt.xlabel('Racial Diversity(Herfindahl-Hirschman Index) in Group')"
   ]
  },
  {
   "cell_type": "code",
   "execution_count": null,
   "id": "c1ab91d7",
   "metadata": {},
   "outputs": [],
   "source": []
  }
 ],
 "metadata": {
  "kernelspec": {
   "display_name": "Python 3 (ipykernel)",
   "language": "python",
   "name": "python3"
  },
  "language_info": {
   "codemirror_mode": {
    "name": "ipython",
    "version": 3
   },
   "file_extension": ".py",
   "mimetype": "text/x-python",
   "name": "python",
   "nbconvert_exporter": "python",
   "pygments_lexer": "ipython3",
   "version": "3.10.8"
  },
  "vscode": {
   "interpreter": {
    "hash": "aee8b7b246df8f9039afb4144a1f6fd8d2ca17a180786b69acc140d282b71a49"
   }
  }
 },
 "nbformat": 4,
 "nbformat_minor": 5
}
